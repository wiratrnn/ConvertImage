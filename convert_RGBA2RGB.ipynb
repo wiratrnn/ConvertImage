{
 "cells": [
  {
   "cell_type": "code",
   "execution_count": 1,
   "id": "f85ad365",
   "metadata": {},
   "outputs": [],
   "source": [
    "from PIL import Image\n",
    "import matplotlib.pyplot as plt\n",
    "import numpy as np\n",
    "import os\n"
   ]
  },
  {
   "cell_type": "markdown",
   "id": "2df6fc65",
   "metadata": {},
   "source": [
    "# mencari file yg transparan"
   ]
  },
  {
   "cell_type": "code",
   "execution_count": 44,
   "id": "3411d30d",
   "metadata": {
    "scrolled": true
   },
   "outputs": [
    {
     "name": "stdout",
     "output_type": "stream",
     "text": [
      "ini transparan pisang (1).png\n",
      "ini transparan pisang (10).png\n",
      "ini transparan pisang (11).png\n",
      "ini transparan pisang (13).png\n",
      "ini transparan pisang (2).png\n",
      "ini transparan pisang (2055).jpg\n",
      "ini transparan pisang (2255).jpg\n",
      "ini transparan pisang (2389).jpg\n",
      "ini transparan pisang (2400).jpg\n",
      "ini transparan pisang (2419).jpg\n",
      "ini transparan pisang (2424).jpg\n",
      "ini transparan pisang (2427).jpg\n",
      "ini transparan pisang (2438).jpg\n",
      "ini transparan pisang (2439).jpg\n",
      "ini transparan pisang (2455).jpg\n",
      "ini transparan pisang (3).png\n",
      "ini transparan pisang (5).png\n",
      "ini transparan pisang (526).jpg\n",
      "ini transparan pisang (570).jpg\n",
      "ini transparan pisang (6).png\n",
      "ini transparan pisang (649).jpg\n",
      "ini transparan pisang (650).jpg\n",
      "ini transparan pisang (651).jpg\n",
      "ini transparan pisang (652).jpg\n",
      "ini transparan pisang (666).jpg\n",
      "ini transparan pisang (667).jpg\n",
      "ini transparan pisang (668).jpg\n",
      "ini transparan pisang (669).jpg\n",
      "ini transparan pisang (7).png\n",
      "ini transparan pisang (8).png\n",
      "ini transparan pisang (9).png\n",
      "31\n"
     ]
    }
   ],
   "source": [
    "path = \"C:/Users/member/Desktop/Datasets/cleaning/dataset/train/pisang/\" #direktori\n",
    "dirlis = os.listdir(path)\n",
    "\n",
    "imgtrans = [] #tempat menyimpan daftar gambar sus\n",
    "for i in dirlis:\n",
    "    try:\n",
    "        apel = os.path.join(path,i)\n",
    "        abc = plt.imread(apel)\n",
    "        if abc.shape[-1] == 4: # 4: untuk RGBA, 3: untuk RGB, 2: untuk grayscale\n",
    "            print(\"ini transparan\",i)\n",
    "            imgtrans.append(i)\n",
    "    except:\n",
    "        print(\"ini error\",i) #jika ada file sus\n",
    "        \n",
    "print(len(imgtrans))"
   ]
  },
  {
   "cell_type": "markdown",
   "id": "b13563e7",
   "metadata": {},
   "source": [
    "# mengubah gambar tadi menjadi RGB"
   ]
  },
  {
   "cell_type": "code",
   "execution_count": 45,
   "id": "9cd291ba",
   "metadata": {},
   "outputs": [],
   "source": [
    "import time\n",
    "itera = 1 #untuk menamai file dengan angka agar tidak replace\n",
    "\n",
    "for i in imgtrans:\n",
    "    lop = Image.open(os.path.join(path,i))\n",
    "    if lop.mode == \"P\": #jika tipe gambar P\n",
    "        rrg = lop.convert(\"RGBA\")\n",
    "        rrg = rrg.convert(\"RGB\")\n",
    "        rrg.save(f\"{path}cengkunek{itera}.jpeg\",format=\"jpeg\",quality=80) #tambahkan ke file asli\n",
    "        time.sleep(3)\n",
    "        os.remove(f\"{path}{i}\") #langsung dihapus gambar sus tadi\n",
    "        itera += 1\n",
    "    else: #jika tipe gambar RGBA\n",
    "        rrg = lop.convert(\"RGB\")\n",
    "        rrg.save(f\"{path}cengkunek{itera}.jpeg\",format=\"jpeg\",quality=80)\n",
    "        time.sleep(3)\n",
    "        os.remove(f\"{path}{i}\")\n",
    "        itera += 1"
   ]
  },
  {
   "cell_type": "markdown",
   "id": "9a705985",
   "metadata": {},
   "source": [
    "# cek gambar sus lainnya"
   ]
  },
  {
   "cell_type": "code",
   "execution_count": 47,
   "id": "bc0db3cb",
   "metadata": {},
   "outputs": [],
   "source": [
    "import imghdr\n",
    "from pathlib import Path\n",
    "\n",
    "data_dir = path\n",
    "extens = [\".png\",\".jpeg\",\".jpg\"] #format file yang ada di direktori\n",
    "\n",
    "img_type = [\"jpg\",\"bmp\",\"gif\",'jpeg','png'] #file yg diterima ama tensorflow\n",
    "for filepath in Path(data_dir).rglob(\"*\"):\n",
    "    if filepath.suffix.lower() in extens:\n",
    "        img_ty = imghdr.what(filepath)\n",
    "        if img_ty is None: #apakah file sus?\n",
    "            print(f\"ini none {filepath},{img_ty}\")\n",
    "        elif img_ty not in img_type: #apakah file sesuai kriteria\n",
    "            print(f\"ini tdk accept {filepath},{img_ty}\")"
   ]
  }
 ],
 "metadata": {
  "kernelspec": {
   "display_name": "Python 3 (ipykernel)",
   "language": "python",
   "name": "python3"
  },
  "language_info": {
   "codemirror_mode": {
    "name": "ipython",
    "version": 3
   },
   "file_extension": ".py",
   "mimetype": "text/x-python",
   "name": "python",
   "nbconvert_exporter": "python",
   "pygments_lexer": "ipython3",
   "version": "3.9.6"
  }
 },
 "nbformat": 4,
 "nbformat_minor": 5
}
